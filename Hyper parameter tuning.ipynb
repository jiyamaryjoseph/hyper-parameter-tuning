{
 "cells": [
  {
   "cell_type": "code",
   "execution_count": 57,
   "id": "1b0f9df4",
   "metadata": {},
   "outputs": [
    {
     "data": {
      "text/html": [
       "<div>\n",
       "<style scoped>\n",
       "    .dataframe tbody tr th:only-of-type {\n",
       "        vertical-align: middle;\n",
       "    }\n",
       "\n",
       "    .dataframe tbody tr th {\n",
       "        vertical-align: top;\n",
       "    }\n",
       "\n",
       "    .dataframe thead th {\n",
       "        text-align: right;\n",
       "    }\n",
       "</style>\n",
       "<table border=\"1\" class=\"dataframe\">\n",
       "  <thead>\n",
       "    <tr style=\"text-align: right;\">\n",
       "      <th></th>\n",
       "      <th>Pregnancies</th>\n",
       "      <th>Glucose</th>\n",
       "      <th>BloodPressure</th>\n",
       "      <th>SkinThickness</th>\n",
       "      <th>Insulin</th>\n",
       "      <th>BMI</th>\n",
       "      <th>DiabetesPedigreeFunction</th>\n",
       "      <th>Age</th>\n",
       "      <th>Outcome</th>\n",
       "    </tr>\n",
       "  </thead>\n",
       "  <tbody>\n",
       "    <tr>\n",
       "      <th>0</th>\n",
       "      <td>6</td>\n",
       "      <td>148</td>\n",
       "      <td>72</td>\n",
       "      <td>35</td>\n",
       "      <td>0</td>\n",
       "      <td>33.6</td>\n",
       "      <td>0.627</td>\n",
       "      <td>50</td>\n",
       "      <td>1</td>\n",
       "    </tr>\n",
       "    <tr>\n",
       "      <th>1</th>\n",
       "      <td>1</td>\n",
       "      <td>85</td>\n",
       "      <td>66</td>\n",
       "      <td>29</td>\n",
       "      <td>0</td>\n",
       "      <td>26.6</td>\n",
       "      <td>0.351</td>\n",
       "      <td>31</td>\n",
       "      <td>0</td>\n",
       "    </tr>\n",
       "    <tr>\n",
       "      <th>2</th>\n",
       "      <td>8</td>\n",
       "      <td>183</td>\n",
       "      <td>64</td>\n",
       "      <td>0</td>\n",
       "      <td>0</td>\n",
       "      <td>23.3</td>\n",
       "      <td>0.672</td>\n",
       "      <td>32</td>\n",
       "      <td>1</td>\n",
       "    </tr>\n",
       "    <tr>\n",
       "      <th>3</th>\n",
       "      <td>1</td>\n",
       "      <td>89</td>\n",
       "      <td>66</td>\n",
       "      <td>23</td>\n",
       "      <td>94</td>\n",
       "      <td>28.1</td>\n",
       "      <td>0.167</td>\n",
       "      <td>21</td>\n",
       "      <td>0</td>\n",
       "    </tr>\n",
       "    <tr>\n",
       "      <th>4</th>\n",
       "      <td>0</td>\n",
       "      <td>137</td>\n",
       "      <td>40</td>\n",
       "      <td>35</td>\n",
       "      <td>168</td>\n",
       "      <td>43.1</td>\n",
       "      <td>2.288</td>\n",
       "      <td>33</td>\n",
       "      <td>1</td>\n",
       "    </tr>\n",
       "  </tbody>\n",
       "</table>\n",
       "</div>"
      ],
      "text/plain": [
       "   Pregnancies  Glucose  BloodPressure  SkinThickness  Insulin   BMI  \\\n",
       "0            6      148             72             35        0  33.6   \n",
       "1            1       85             66             29        0  26.6   \n",
       "2            8      183             64              0        0  23.3   \n",
       "3            1       89             66             23       94  28.1   \n",
       "4            0      137             40             35      168  43.1   \n",
       "\n",
       "   DiabetesPedigreeFunction  Age  Outcome  \n",
       "0                     0.627   50        1  \n",
       "1                     0.351   31        0  \n",
       "2                     0.672   32        1  \n",
       "3                     0.167   21        0  \n",
       "4                     2.288   33        1  "
      ]
     },
     "execution_count": 57,
     "metadata": {},
     "output_type": "execute_result"
    }
   ],
   "source": [
    "import pandas as pd\n",
    "df=pd.read_csv('D:\\\\data\\\\diabetics.csv')\n",
    "df.head()"
   ]
  },
  {
   "cell_type": "code",
   "execution_count": 58,
   "id": "2c3465e7",
   "metadata": {},
   "outputs": [],
   "source": [
    "import numpy as np"
   ]
  },
  {
   "cell_type": "code",
   "execution_count": 59,
   "id": "3cbd074e",
   "metadata": {},
   "outputs": [],
   "source": [
    "import warnings\n",
    "warnings.filterwarnings('ignore')"
   ]
  },
  {
   "cell_type": "code",
   "execution_count": 60,
   "id": "e7835d2a",
   "metadata": {},
   "outputs": [
    {
     "data": {
      "text/plain": [
       "Pregnancies                 111\n",
       "Glucose                       5\n",
       "BloodPressure                35\n",
       "SkinThickness               227\n",
       "Insulin                     374\n",
       "BMI                          11\n",
       "DiabetesPedigreeFunction      0\n",
       "Age                           0\n",
       "Outcome                     500\n",
       "dtype: int64"
      ]
     },
     "execution_count": 60,
     "metadata": {},
     "output_type": "execute_result"
    }
   ],
   "source": [
    "(df==0).sum()"
   ]
  },
  {
   "cell_type": "code",
   "execution_count": 61,
   "id": "ba7a6794",
   "metadata": {},
   "outputs": [
    {
     "data": {
      "text/plain": [
       "Pregnancies                 111\n",
       "Glucose                       0\n",
       "BloodPressure                 0\n",
       "SkinThickness                 0\n",
       "Insulin                       0\n",
       "BMI                           0\n",
       "DiabetesPedigreeFunction      0\n",
       "Age                           0\n",
       "Outcome                     500\n",
       "dtype: int64"
      ]
     },
     "execution_count": 61,
     "metadata": {},
     "output_type": "execute_result"
    }
   ],
   "source": [
    "#GM=df['Glucose'].median()\n",
    "#df['Glucose']=df['Glucose'].replace(0,GM)\n",
    "df['Glucose']=np.where(df['Glucose']==0,df['Glucose'].median(),df['Glucose'])\n",
    "df['Insulin']=np.where(df['Insulin']==0,df['Insulin'].median(),df['Insulin'])\n",
    "df['SkinThickness']=np.where(df['SkinThickness']==0,df['SkinThickness'].median(),df['SkinThickness'])\n",
    "df['BloodPressure']=np.where(df['BloodPressure']==0,df['BloodPressure'].median(),df['BloodPressure'])\n",
    "df['BMI']=np.where(df['BMI']==0,df['BMI'].median(),df['BMI'])\n",
    "\n",
    "(df==0).sum()"
   ]
  },
  {
   "cell_type": "code",
   "execution_count": 62,
   "id": "7ef1bd94",
   "metadata": {},
   "outputs": [
    {
     "data": {
      "text/html": [
       "<div>\n",
       "<style scoped>\n",
       "    .dataframe tbody tr th:only-of-type {\n",
       "        vertical-align: middle;\n",
       "    }\n",
       "\n",
       "    .dataframe tbody tr th {\n",
       "        vertical-align: top;\n",
       "    }\n",
       "\n",
       "    .dataframe thead th {\n",
       "        text-align: right;\n",
       "    }\n",
       "</style>\n",
       "<table border=\"1\" class=\"dataframe\">\n",
       "  <thead>\n",
       "    <tr style=\"text-align: right;\">\n",
       "      <th></th>\n",
       "      <th>Pregnancies</th>\n",
       "      <th>Glucose</th>\n",
       "      <th>BloodPressure</th>\n",
       "      <th>SkinThickness</th>\n",
       "      <th>Insulin</th>\n",
       "      <th>BMI</th>\n",
       "      <th>DiabetesPedigreeFunction</th>\n",
       "      <th>Age</th>\n",
       "      <th>Outcome</th>\n",
       "    </tr>\n",
       "  </thead>\n",
       "  <tbody>\n",
       "    <tr>\n",
       "      <th>0</th>\n",
       "      <td>6</td>\n",
       "      <td>148.0</td>\n",
       "      <td>72.0</td>\n",
       "      <td>35.0</td>\n",
       "      <td>30.5</td>\n",
       "      <td>33.6</td>\n",
       "      <td>0.627</td>\n",
       "      <td>50</td>\n",
       "      <td>1</td>\n",
       "    </tr>\n",
       "    <tr>\n",
       "      <th>1</th>\n",
       "      <td>1</td>\n",
       "      <td>85.0</td>\n",
       "      <td>66.0</td>\n",
       "      <td>29.0</td>\n",
       "      <td>30.5</td>\n",
       "      <td>26.6</td>\n",
       "      <td>0.351</td>\n",
       "      <td>31</td>\n",
       "      <td>0</td>\n",
       "    </tr>\n",
       "    <tr>\n",
       "      <th>2</th>\n",
       "      <td>8</td>\n",
       "      <td>183.0</td>\n",
       "      <td>64.0</td>\n",
       "      <td>23.0</td>\n",
       "      <td>30.5</td>\n",
       "      <td>23.3</td>\n",
       "      <td>0.672</td>\n",
       "      <td>32</td>\n",
       "      <td>1</td>\n",
       "    </tr>\n",
       "    <tr>\n",
       "      <th>3</th>\n",
       "      <td>1</td>\n",
       "      <td>89.0</td>\n",
       "      <td>66.0</td>\n",
       "      <td>23.0</td>\n",
       "      <td>94.0</td>\n",
       "      <td>28.1</td>\n",
       "      <td>0.167</td>\n",
       "      <td>21</td>\n",
       "      <td>0</td>\n",
       "    </tr>\n",
       "    <tr>\n",
       "      <th>4</th>\n",
       "      <td>0</td>\n",
       "      <td>137.0</td>\n",
       "      <td>40.0</td>\n",
       "      <td>35.0</td>\n",
       "      <td>168.0</td>\n",
       "      <td>43.1</td>\n",
       "      <td>2.288</td>\n",
       "      <td>33</td>\n",
       "      <td>1</td>\n",
       "    </tr>\n",
       "  </tbody>\n",
       "</table>\n",
       "</div>"
      ],
      "text/plain": [
       "   Pregnancies  Glucose  BloodPressure  SkinThickness  Insulin   BMI  \\\n",
       "0            6    148.0           72.0           35.0     30.5  33.6   \n",
       "1            1     85.0           66.0           29.0     30.5  26.6   \n",
       "2            8    183.0           64.0           23.0     30.5  23.3   \n",
       "3            1     89.0           66.0           23.0     94.0  28.1   \n",
       "4            0    137.0           40.0           35.0    168.0  43.1   \n",
       "\n",
       "   DiabetesPedigreeFunction  Age  Outcome  \n",
       "0                     0.627   50        1  \n",
       "1                     0.351   31        0  \n",
       "2                     0.672   32        1  \n",
       "3                     0.167   21        0  \n",
       "4                     2.288   33        1  "
      ]
     },
     "execution_count": 62,
     "metadata": {},
     "output_type": "execute_result"
    }
   ],
   "source": [
    "df.head()"
   ]
  },
  {
   "cell_type": "code",
   "execution_count": 63,
   "id": "b4ea4698",
   "metadata": {},
   "outputs": [
    {
     "data": {
      "text/html": [
       "<div>\n",
       "<style scoped>\n",
       "    .dataframe tbody tr th:only-of-type {\n",
       "        vertical-align: middle;\n",
       "    }\n",
       "\n",
       "    .dataframe tbody tr th {\n",
       "        vertical-align: top;\n",
       "    }\n",
       "\n",
       "    .dataframe thead th {\n",
       "        text-align: right;\n",
       "    }\n",
       "</style>\n",
       "<table border=\"1\" class=\"dataframe\">\n",
       "  <thead>\n",
       "    <tr style=\"text-align: right;\">\n",
       "      <th></th>\n",
       "      <th>Pregnancies</th>\n",
       "      <th>Glucose</th>\n",
       "      <th>BloodPressure</th>\n",
       "      <th>SkinThickness</th>\n",
       "      <th>Insulin</th>\n",
       "      <th>BMI</th>\n",
       "      <th>DiabetesPedigreeFunction</th>\n",
       "      <th>Age</th>\n",
       "    </tr>\n",
       "  </thead>\n",
       "  <tbody>\n",
       "    <tr>\n",
       "      <th>0</th>\n",
       "      <td>6</td>\n",
       "      <td>148.0</td>\n",
       "      <td>72.0</td>\n",
       "      <td>35.0</td>\n",
       "      <td>30.5</td>\n",
       "      <td>33.6</td>\n",
       "      <td>0.627</td>\n",
       "      <td>50</td>\n",
       "    </tr>\n",
       "    <tr>\n",
       "      <th>1</th>\n",
       "      <td>1</td>\n",
       "      <td>85.0</td>\n",
       "      <td>66.0</td>\n",
       "      <td>29.0</td>\n",
       "      <td>30.5</td>\n",
       "      <td>26.6</td>\n",
       "      <td>0.351</td>\n",
       "      <td>31</td>\n",
       "    </tr>\n",
       "    <tr>\n",
       "      <th>2</th>\n",
       "      <td>8</td>\n",
       "      <td>183.0</td>\n",
       "      <td>64.0</td>\n",
       "      <td>23.0</td>\n",
       "      <td>30.5</td>\n",
       "      <td>23.3</td>\n",
       "      <td>0.672</td>\n",
       "      <td>32</td>\n",
       "    </tr>\n",
       "    <tr>\n",
       "      <th>3</th>\n",
       "      <td>1</td>\n",
       "      <td>89.0</td>\n",
       "      <td>66.0</td>\n",
       "      <td>23.0</td>\n",
       "      <td>94.0</td>\n",
       "      <td>28.1</td>\n",
       "      <td>0.167</td>\n",
       "      <td>21</td>\n",
       "    </tr>\n",
       "    <tr>\n",
       "      <th>4</th>\n",
       "      <td>0</td>\n",
       "      <td>137.0</td>\n",
       "      <td>40.0</td>\n",
       "      <td>35.0</td>\n",
       "      <td>168.0</td>\n",
       "      <td>43.1</td>\n",
       "      <td>2.288</td>\n",
       "      <td>33</td>\n",
       "    </tr>\n",
       "  </tbody>\n",
       "</table>\n",
       "</div>"
      ],
      "text/plain": [
       "   Pregnancies  Glucose  BloodPressure  SkinThickness  Insulin   BMI  \\\n",
       "0            6    148.0           72.0           35.0     30.5  33.6   \n",
       "1            1     85.0           66.0           29.0     30.5  26.6   \n",
       "2            8    183.0           64.0           23.0     30.5  23.3   \n",
       "3            1     89.0           66.0           23.0     94.0  28.1   \n",
       "4            0    137.0           40.0           35.0    168.0  43.1   \n",
       "\n",
       "   DiabetesPedigreeFunction  Age  \n",
       "0                     0.627   50  \n",
       "1                     0.351   31  \n",
       "2                     0.672   32  \n",
       "3                     0.167   21  \n",
       "4                     2.288   33  "
      ]
     },
     "execution_count": 63,
     "metadata": {},
     "output_type": "execute_result"
    }
   ],
   "source": [
    "X=df.drop(['Outcome'],axis=1)\n",
    "X.head()"
   ]
  },
  {
   "cell_type": "code",
   "execution_count": 64,
   "id": "02177ecc",
   "metadata": {},
   "outputs": [
    {
     "data": {
      "text/plain": [
       "0    1\n",
       "1    0\n",
       "2    1\n",
       "3    0\n",
       "4    1\n",
       "Name: Outcome, dtype: int64"
      ]
     },
     "execution_count": 64,
     "metadata": {},
     "output_type": "execute_result"
    }
   ],
   "source": [
    "y=df.Outcome\n",
    "y.head()"
   ]
  },
  {
   "cell_type": "code",
   "execution_count": 65,
   "id": "9d409df2",
   "metadata": {},
   "outputs": [],
   "source": [
    "from sklearn.model_selection import train_test_split\n",
    "X_train,X_test,y_train,y_test =train_test_split(X,y,test_size=.2,random_state=33)"
   ]
  },
  {
   "cell_type": "code",
   "execution_count": 66,
   "id": "2a6c3004",
   "metadata": {},
   "outputs": [],
   "source": [
    "from sklearn.ensemble import RandomForestClassifier\n",
    "r_cl=RandomForestClassifier(n_estimators=10).fit(X_train,y_train)\n",
    "prediction=r_cl.predict(X_test)"
   ]
  },
  {
   "cell_type": "code",
   "execution_count": 67,
   "id": "9fde47a8",
   "metadata": {},
   "outputs": [
    {
     "name": "stdout",
     "output_type": "stream",
     "text": [
      "[[83 16]\n",
      " [31 24]]\n"
     ]
    }
   ],
   "source": [
    "from sklearn.metrics import confusion_matrix,accuracy_score,classification_report\n",
    "print(confusion_matrix(y_test,prediction))\n"
   ]
  },
  {
   "cell_type": "code",
   "execution_count": 68,
   "id": "9613630f",
   "metadata": {},
   "outputs": [
    {
     "name": "stdout",
     "output_type": "stream",
     "text": [
      "0.6948051948051948\n"
     ]
    }
   ],
   "source": [
    "print(accuracy_score(y_test,prediction))\n"
   ]
  },
  {
   "cell_type": "code",
   "execution_count": 69,
   "id": "16e1959b",
   "metadata": {},
   "outputs": [
    {
     "name": "stdout",
     "output_type": "stream",
     "text": [
      "              precision    recall  f1-score   support\n",
      "\n",
      "           0       0.73      0.84      0.78        99\n",
      "           1       0.60      0.44      0.51        55\n",
      "\n",
      "    accuracy                           0.69       154\n",
      "   macro avg       0.66      0.64      0.64       154\n",
      "weighted avg       0.68      0.69      0.68       154\n",
      "\n"
     ]
    }
   ],
   "source": [
    "print(classification_report(y_test,prediction))"
   ]
  },
  {
   "cell_type": "markdown",
   "id": "f4e6f4c2",
   "metadata": {},
   "source": [
    "## RandomizedSearchCV"
   ]
  },
  {
   "cell_type": "code",
   "execution_count": 70,
   "id": "e5ff120b",
   "metadata": {},
   "outputs": [],
   "source": [
    "##Randomly select for finding hyperparams \n",
    "import numpy as np\n",
    "from sklearn.model_selection import RandomizedSearchCV\n",
    "model=RandomForestClassifier()"
   ]
  },
  {
   "cell_type": "code",
   "execution_count": 71,
   "id": "ac250c78",
   "metadata": {},
   "outputs": [
    {
     "data": {
      "text/plain": [
       "[200, 400, 600, 800, 1000, 1200, 1400, 1600, 1800, 2000]"
      ]
     },
     "execution_count": 71,
     "metadata": {},
     "output_type": "execute_result"
    }
   ],
   "source": [
    "[int(x) for x in np.linspace(start=200,stop=2000,num=10)]"
   ]
  },
  {
   "cell_type": "code",
   "execution_count": 96,
   "id": "ef5278b3",
   "metadata": {},
   "outputs": [],
   "source": [
    "\n",
    "# number of trees in random forest\n",
    "n_estimators=[int(x) for x in np.linspace(start=100,stop=2000,num=10)]\n",
    "#number of features to consider at every split\n",
    "max_features=[\"auto\", \"sqrt\", \"log2\"]\n",
    "##max number of level in tree\n",
    "max_depth=[int(x) for x in np.linspace(10,1000,10)]\n",
    "##minimum number of sample to split a node\n",
    "min_samples_split=[1,2,3,4,5,7,9]\n",
    "#minimum number of samples to split a each leaf node\n",
    "min_samples_leaf=[1,2,4,6,8]\n",
    "#create random grid\n",
    "random_grid={\n",
    "    \"n_estimators\":n_estimators,\n",
    "    \"max_features\":max_features,\n",
    "    \"max_depth\":max_depth,\n",
    "    \"min_samples_split\":min_samples_split,\n",
    "    \"min_samples_leaf\":min_samples_leaf,\n",
    "    'criterion':['gini', \"entropy\"]\n",
    "    \n",
    "}"
   ]
  },
  {
   "cell_type": "code",
   "execution_count": 73,
   "id": "fc7f2b89",
   "metadata": {},
   "outputs": [
    {
     "data": {
      "text/plain": [
       "RandomizedSearchCV(cv=3, estimator=RandomForestClassifier(), n_iter=100,\n",
       "                   n_jobs=-1,\n",
       "                   param_distributions={'criterion': ['gini', 'entropy'],\n",
       "                                        'max_depth': [10, 120, 230, 340, 450,\n",
       "                                                      560, 670, 780, 890,\n",
       "                                                      1000],\n",
       "                                        'max_features': ['auto', 'sqrt',\n",
       "                                                         'log2'],\n",
       "                                        'min_samples_leaf': [1, 2, 4, 6, 8],\n",
       "                                        'min_samples_split': [1, 2, 3, 4, 5, 7,\n",
       "                                                              9],\n",
       "                                        'n_estimators': [100, 311, 522, 733,\n",
       "                                                         944, 1155, 1366, 1577,\n",
       "                                                         1788, 2000]},\n",
       "                   random_state=100)"
      ]
     },
     "execution_count": 73,
     "metadata": {},
     "output_type": "execute_result"
    }
   ],
   "source": [
    "randm_cv=RandomizedSearchCV(estimator=RandomForestClassifier(),param_distributions=random_grid,n_iter=100,cv=3,random_state=100,n_jobs=-1)\n",
    "randm_cv.fit(X_train,y_train)\n"
   ]
  },
  {
   "cell_type": "code",
   "execution_count": 74,
   "id": "895fba58",
   "metadata": {},
   "outputs": [
    {
     "data": {
      "text/plain": [
       "{'n_estimators': 311,\n",
       " 'min_samples_split': 5,\n",
       " 'min_samples_leaf': 8,\n",
       " 'max_features': 'log2',\n",
       " 'max_depth': 120,\n",
       " 'criterion': 'entropy'}"
      ]
     },
     "execution_count": 74,
     "metadata": {},
     "output_type": "execute_result"
    }
   ],
   "source": [
    "randm_cv.best_params_"
   ]
  },
  {
   "cell_type": "code",
   "execution_count": 75,
   "id": "e3861e01",
   "metadata": {},
   "outputs": [],
   "source": [
    "best_random_grid=randm_cv.best_estimator_"
   ]
  },
  {
   "cell_type": "code",
   "execution_count": 76,
   "id": "6b18f41f",
   "metadata": {},
   "outputs": [
    {
     "name": "stdout",
     "output_type": "stream",
     "text": [
      "[[84 15]\n",
      " [23 32]]\n",
      "0.7532467532467533\n"
     ]
    }
   ],
   "source": [
    "predicton_randomgrid=best_random_grid.predict(X_test)\n",
    "print(confusion_matrix(y_test,predicton_randomgrid))\n",
    "print(accuracy_score(y_test,predicton_randomgrid))"
   ]
  },
  {
   "cell_type": "markdown",
   "id": "2d85dce2",
   "metadata": {},
   "source": [
    "## GridsearcCV"
   ]
  },
  {
   "cell_type": "code",
   "execution_count": 77,
   "id": "8e601250",
   "metadata": {},
   "outputs": [
    {
     "name": "stdout",
     "output_type": "stream",
     "text": [
      "{'n_estimators': [511, 211, 311, 411, 511], 'max_features': ['log2'], 'max_depth': [120], 'min_samples_split': [7, 6, 3, 4], 'min_samples_leaf': [8, 10, 12], 'criterion': ['entropy']}\n"
     ]
    }
   ],
   "source": [
    "from sklearn.model_selection import GridSearchCV\n",
    "params={\n",
    "    \"n_estimators\":[randm_cv.best_params_['n_estimators']+200,\n",
    "                   randm_cv.best_params_['n_estimators']-100,\n",
    "                   randm_cv.best_params_['n_estimators'],\n",
    "                   randm_cv.best_params_['n_estimators']+100,\n",
    "                   randm_cv.best_params_['n_estimators']+200],\n",
    "    \"max_features\":[randm_cv.best_params_['max_features']],\n",
    "    \"max_depth\":[randm_cv.best_params_['max_depth']],\n",
    "    \"min_samples_split\":[randm_cv.best_params_['min_samples_split']+2,\n",
    "                         randm_cv.best_params_['min_samples_split']+1,\n",
    "                         randm_cv.best_params_['min_samples_split']-2,\n",
    "                         randm_cv.best_params_['min_samples_split']-1],\n",
    "    \"min_samples_leaf\":[randm_cv.best_params_['min_samples_leaf'],\n",
    "                        randm_cv.best_params_['min_samples_leaf']+2,\n",
    "                        randm_cv.best_params_['min_samples_leaf']+4],\n",
    "    'criterion':[randm_cv.best_params_['criterion']]\n",
    "         }\n",
    "print(params)"
   ]
  },
  {
   "cell_type": "code",
   "execution_count": 78,
   "id": "0e080ac1",
   "metadata": {},
   "outputs": [
    {
     "data": {
      "text/plain": [
       "60"
      ]
     },
     "execution_count": 78,
     "metadata": {},
     "output_type": "execute_result"
    }
   ],
   "source": [
    "5*1*1*4*3*1#iteration we should take"
   ]
  },
  {
   "cell_type": "code",
   "execution_count": 79,
   "id": "c989c0a9",
   "metadata": {},
   "outputs": [
    {
     "name": "stdout",
     "output_type": "stream",
     "text": [
      "Fitting 10 folds for each of 60 candidates, totalling 600 fits\n"
     ]
    },
    {
     "data": {
      "text/plain": [
       "GridSearchCV(cv=10, estimator=RandomForestClassifier(), n_jobs=-1,\n",
       "             param_grid={'criterion': ['entropy'], 'max_depth': [120],\n",
       "                         'max_features': ['log2'],\n",
       "                         'min_samples_leaf': [8, 10, 12],\n",
       "                         'min_samples_split': [7, 6, 3, 4],\n",
       "                         'n_estimators': [511, 211, 311, 411, 511]},\n",
       "             verbose=2)"
      ]
     },
     "execution_count": 79,
     "metadata": {},
     "output_type": "execute_result"
    }
   ],
   "source": [
    "gcv=GridSearchCV(estimator=RandomForestClassifier(),param_grid=params,cv=10,n_jobs=-1,verbose=2)\n",
    "gcv.fit(X_train,y_train)"
   ]
  },
  {
   "cell_type": "code",
   "execution_count": 80,
   "id": "a7c04de4",
   "metadata": {},
   "outputs": [
    {
     "data": {
      "text/plain": [
       "{'criterion': 'entropy',\n",
       " 'max_depth': 120,\n",
       " 'max_features': 'log2',\n",
       " 'min_samples_leaf': 12,\n",
       " 'min_samples_split': 7,\n",
       " 'n_estimators': 511}"
      ]
     },
     "execution_count": 80,
     "metadata": {},
     "output_type": "execute_result"
    }
   ],
   "source": [
    "gcv.best_params_"
   ]
  },
  {
   "cell_type": "code",
   "execution_count": 81,
   "id": "3b3d3b33",
   "metadata": {},
   "outputs": [],
   "source": [
    "best_grid_cv=gcv.best_estimator_"
   ]
  },
  {
   "cell_type": "code",
   "execution_count": 82,
   "id": "ff122c40",
   "metadata": {},
   "outputs": [],
   "source": [
    "gcv_prediction=best_grid_cv.predict(X_test)"
   ]
  },
  {
   "cell_type": "code",
   "execution_count": 83,
   "id": "d016888d",
   "metadata": {},
   "outputs": [
    {
     "name": "stdout",
     "output_type": "stream",
     "text": [
      "[[85 14]\n",
      " [28 27]]\n"
     ]
    }
   ],
   "source": [
    "print(confusion_matrix(y_test,gcv_prediction))"
   ]
  },
  {
   "cell_type": "code",
   "execution_count": 84,
   "id": "faaa7ab5",
   "metadata": {},
   "outputs": [
    {
     "name": "stdout",
     "output_type": "stream",
     "text": [
      "0.7272727272727273\n"
     ]
    }
   ],
   "source": [
    "print(accuracy_score(y_test,gcv_prediction))"
   ]
  },
  {
   "cell_type": "markdown",
   "id": "e23c102c",
   "metadata": {},
   "source": [
    "## Baysian Optimization"
   ]
  },
  {
   "cell_type": "code",
   "execution_count": 85,
   "id": "72447001",
   "metadata": {},
   "outputs": [],
   "source": [
    "from hyperopt import hp,fmin,tpe,STATUS_OK,Trials"
   ]
  },
  {
   "cell_type": "code",
   "execution_count": 86,
   "id": "95beaf40",
   "metadata": {},
   "outputs": [
    {
     "data": {
      "text/plain": [
       "{'criterion': <hyperopt.pyll.base.Apply at 0x1c54ec4a190>,\n",
       " 'max_depth': <hyperopt.pyll.base.Apply at 0x1c54f6d4f70>,\n",
       " 'max_features': <hyperopt.pyll.base.Apply at 0x1c54f6d40d0>,\n",
       " 'min_samples_leaf': <hyperopt.pyll.base.Apply at 0x1c54f6d4430>,\n",
       " 'min_samples_split': <hyperopt.pyll.base.Apply at 0x1c54f6d4f40>,\n",
       " 'n_estimators': <hyperopt.pyll.base.Apply at 0x1c54f6d4b50>}"
      ]
     },
     "execution_count": 86,
     "metadata": {},
     "output_type": "execute_result"
    }
   ],
   "source": [
    "space={\n",
    "    'criterion':hp.choice('criterion',['entropy','gini']),\n",
    "    'max_depth':hp.quniform('max_depth',10,1200,10),\n",
    "    'max_features':hp.choice('max_features',['auto','sqrt','log2',None]),\n",
    "    'min_samples_leaf':hp.uniform('min_samples_leaf',0,0.5),\n",
    "    'min_samples_split':hp.uniform('min_samples_split',0,3),\n",
    "    'n_estimators':hp.choice('n_estimators',[10,50,300,750,1000])\n",
    "    }\n",
    "space"
   ]
  },
  {
   "cell_type": "code",
   "execution_count": 87,
   "id": "29042404",
   "metadata": {},
   "outputs": [],
   "source": [
    "from sklearn.model_selection import cross_val_score"
   ]
  },
  {
   "cell_type": "code",
   "execution_count": 88,
   "id": "e12b37b8",
   "metadata": {},
   "outputs": [
    {
     "data": {
      "text/plain": [
       "<hyperopt.pyll.base.Apply at 0x1c54ec4a190>"
      ]
     },
     "execution_count": 88,
     "metadata": {},
     "output_type": "execute_result"
    }
   ],
   "source": [
    "space['criterion']"
   ]
  },
  {
   "cell_type": "code",
   "execution_count": 89,
   "id": "852c2068",
   "metadata": {},
   "outputs": [
    {
     "name": "stdout",
     "output_type": "stream",
     "text": [
      "RandomForestClassifier(criterion=<hyperopt.pyll.base.Apply object at 0x000001C54EC4A190>,\n",
      "                       max_depth=<hyperopt.pyll.base.Apply object at 0x000001C54F6D4F70>,\n",
      "                       max_features=<hyperopt.pyll.base.Apply object at 0x000001C54F6D40D0>,\n",
      "                       min_samples_leaf=<hyperopt.pyll.base.Apply object at 0x000001C54F6D4430>,\n",
      "                       min_samples_split=<hyperopt.pyll.base.Apply object at 0x000001C54F6D4F40>,\n",
      "                       n_estimators=<hyperopt.pyll.base.Apply object at 0x000001C54F6D4B50>)\n",
      "nan\n"
     ]
    },
    {
     "data": {
      "text/plain": [
       "{'loss': nan, 'status': 'ok'}"
      ]
     },
     "execution_count": 89,
     "metadata": {},
     "output_type": "execute_result"
    }
   ],
   "source": [
    "from statistics import mean\n",
    "def objective(space):\n",
    "    model3=RandomForestClassifier(criterion=space['criterion'],max_depth=space['max_depth'],max_features=space['max_features'],min_samples_leaf=space['min_samples_leaf'],min_samples_split=space['min_samples_split'],n_estimators=space['n_estimators'])\n",
    "    print(model3)\n",
    "    accuracy= cross_val_score(model3,X_train,y_train,cv=5).mean()\n",
    "    print(accuracy)\n",
    "    #WE AIM TO Maximise accuracy therefore we return it as negative value\n",
    "    return{'loss': -accuracy,'status': STATUS_OK}\n",
    "objective(space)"
   ]
  },
  {
   "cell_type": "code",
   "execution_count": 90,
   "id": "18d2462b",
   "metadata": {},
   "outputs": [
    {
     "name": "stdout",
     "output_type": "stream",
     "text": [
      "RandomForestClassifier(max_depth=1190.0, max_features='sqrt',                                                          \n",
      "                       min_samples_leaf=0.23723264841581282,\n",
      "                       min_samples_split=2.8189887537783522, n_estimators=750)\n",
      "nan                                                                                                                    \n",
      "RandomForestClassifier(max_depth=370.0, max_features=None,                                                             \n",
      "                       min_samples_leaf=0.2578153649983876,\n",
      "                       min_samples_split=1.5585226256345328, n_estimators=300)\n",
      "nan                                                                                                                    \n",
      "RandomForestClassifier(max_depth=900.0, max_features='log2',                                                           \n",
      "                       min_samples_leaf=0.4998818799541074,\n",
      "                       min_samples_split=0.2431837155544615, n_estimators=10)\n",
      "0.6530987604958016                                                                                                     \n",
      "RandomForestClassifier(criterion='entropy', max_depth=570.0, max_features=None,                                        \n",
      "                       min_samples_leaf=0.3471745849673992,\n",
      "                       min_samples_split=0.49034875119342214, n_estimators=300)\n",
      "0.6530987604958016                                                                                                     \n",
      "RandomForestClassifier(max_depth=790.0, max_features='sqrt',                                                           \n",
      "                       min_samples_leaf=0.047975967870121705,\n",
      "                       min_samples_split=0.5684548343691047, n_estimators=1000)\n",
      "0.6970678395308543                                                                                                     \n",
      "RandomForestClassifier(criterion='entropy', max_depth=280.0,                                                           \n",
      "                       min_samples_leaf=0.07659015247926187,\n",
      "                       min_samples_split=0.4703696077469016, n_estimators=1000)\n",
      "0.7052512328401972                                                                                                     \n",
      "RandomForestClassifier(criterion='entropy', max_depth=100.0,                                                           \n",
      "                       max_features='sqrt',\n",
      "                       min_samples_leaf=0.38323230017573284,\n",
      "                       min_samples_split=1.3444863788665389, n_estimators=10)\n",
      "nan                                                                                                                    \n",
      "RandomForestClassifier(criterion='entropy', max_depth=670.0,                                                           \n",
      "                       min_samples_leaf=0.4792968348386198,\n",
      "                       min_samples_split=1.8375168455697872, n_estimators=1000)\n",
      "nan                                                                                                                    \n",
      "RandomForestClassifier(criterion='entropy', max_depth=330.0, max_features=None,                                        \n",
      "                       min_samples_leaf=0.39679614850404227,\n",
      "                       min_samples_split=0.7900796772518752, n_estimators=10)\n",
      "0.6530987604958016                                                                                                     \n",
      "RandomForestClassifier(max_depth=320.0, max_features='log2',                                                           \n",
      "                       min_samples_leaf=0.27261521720686727,\n",
      "                       min_samples_split=0.5807265620497887, n_estimators=1000)\n",
      "0.7035719045715048                                                                                                     \n",
      "RandomForestClassifier(max_depth=910.0, max_features='log2',                                                           \n",
      "                       min_samples_leaf=0.1288668631572633,\n",
      "                       min_samples_split=1.5516131816886356, n_estimators=300)\n",
      "nan                                                                                                                    \n",
      "RandomForestClassifier(criterion='entropy', max_depth=680.0,                                                           \n",
      "                       max_features='sqrt',\n",
      "                       min_samples_leaf=0.07940821395905723,\n",
      "                       min_samples_split=1.235548713463201, n_estimators=10)\n",
      "nan                                                                                                                    \n",
      "RandomForestClassifier(max_depth=510.0, max_features='log2',                                                           \n",
      "                       min_samples_leaf=0.1640061491449027,\n",
      "                       min_samples_split=1.0578693459438435, n_estimators=50)\n",
      "nan                                                                                                                    \n",
      "RandomForestClassifier(max_depth=720.0, max_features='log2',                                                           \n",
      "                       min_samples_leaf=0.40395478688961833,\n",
      "                       min_samples_split=2.355884215473661, n_estimators=10)\n",
      "nan                                                                                                                    \n",
      "RandomForestClassifier(max_depth=1190.0, min_samples_leaf=0.1957824713259605,                                          \n",
      "                       min_samples_split=0.2937628592638907, n_estimators=10)\n",
      "0.7133413301346129                                                                                                     \n",
      "RandomForestClassifier(max_depth=1080.0, max_features='log2',                                                          \n",
      "                       min_samples_leaf=0.4432845102140982,\n",
      "                       min_samples_split=0.07649769871915202, n_estimators=10)\n",
      "0.6530987604958016                                                                                                     \n",
      "RandomForestClassifier(criterion='entropy', max_depth=330.0,                                                           \n",
      "                       max_features='sqrt',\n",
      "                       min_samples_leaf=0.035114592793665966,\n",
      "                       min_samples_split=1.9794064496076378, n_estimators=750)\n",
      "nan                                                                                                                    \n",
      "RandomForestClassifier(criterion='entropy', max_depth=810.0,                                                           \n",
      "                       max_features='sqrt',\n",
      "                       min_samples_leaf=0.24055985607163816,\n",
      "                       min_samples_split=2.799851697778168, n_estimators=1000)\n",
      "nan                                                                                                                    \n",
      "RandomForestClassifier(criterion='entropy', max_depth=400.0,                                                           \n",
      "                       max_features='log2',\n",
      "                       min_samples_leaf=0.09974274416364165,\n",
      "                       min_samples_split=0.9401884487872081, n_estimators=300)\n",
      "0.6530987604958016                                                                                                     \n",
      "RandomForestClassifier(max_depth=380.0, max_features='sqrt',                                                           \n",
      "                       min_samples_leaf=0.39544582444758586,\n",
      "                       min_samples_split=1.0781022842415027, n_estimators=750)\n",
      "nan                                                                                                                    \n",
      "RandomForestClassifier(max_depth=550.0, max_features='log2',                                                           \n",
      "                       min_samples_leaf=0.2213358896772029,\n",
      "                       min_samples_split=1.6659799510367703, n_estimators=300)\n",
      "nan                                                                                                                    \n"
     ]
    },
    {
     "name": "stdout",
     "output_type": "stream",
     "text": [
      "RandomForestClassifier(max_depth=1110.0, min_samples_leaf=0.15174743589990186,                                         \n",
      "                       min_samples_split=2.982368822946694, n_estimators=750)\n",
      "nan                                                                                                                    \n",
      "RandomForestClassifier(criterion='entropy', max_depth=990.0, max_features=None,                                        \n",
      "                       min_samples_leaf=0.4106853832828608,\n",
      "                       min_samples_split=0.9248431907910634, n_estimators=50)\n",
      "0.6530987604958016                                                                                                     \n",
      "RandomForestClassifier(criterion='entropy', max_depth=120.0,                                                           \n",
      "                       min_samples_leaf=0.1481257246261749,\n",
      "                       min_samples_split=0.8247129784260633, n_estimators=750)\n",
      "0.6530987604958016                                                                                                     \n",
      "RandomForestClassifier(max_depth=480.0, min_samples_leaf=0.3653813179668567,                                           \n",
      "                       min_samples_split=1.4091776559225995, n_estimators=1000)\n",
      "nan                                                                                                                    \n",
      "RandomForestClassifier(max_depth=890.0, max_features=None,                                                             \n",
      "                       min_samples_leaf=0.17948011848082907,\n",
      "                       min_samples_split=0.8498739671223408, n_estimators=300)\n",
      "0.6530987604958016                                                                                                     \n",
      "RandomForestClassifier(criterion='entropy', max_depth=680.0,                                                           \n",
      "                       max_features='log2',\n",
      "                       min_samples_leaf=0.20451218962892498,\n",
      "                       min_samples_split=0.8246036302884983, n_estimators=750)\n",
      "0.6530987604958016                                                                                                     \n",
      "RandomForestClassifier(criterion='entropy', max_depth=660.0,                                                           \n",
      "                       min_samples_leaf=0.19529440911651647,\n",
      "                       min_samples_split=0.04605177648070147, n_estimators=50)\n",
      "0.7068639210982273                                                                                                     \n",
      "RandomForestClassifier(criterion='entropy', max_depth=420.0, max_features=None,                                        \n",
      "                       min_samples_leaf=0.4629474274585268,\n",
      "                       min_samples_split=1.9962188848316957, n_estimators=50)\n",
      "nan                                                                                                                    \n",
      "RandomForestClassifier(criterion='entropy', max_depth=720.0,                                                           \n",
      "                       min_samples_leaf=0.30684268566080397,\n",
      "                       min_samples_split=2.543473568364302, n_estimators=1000)\n",
      "nan                                                                                                                    \n",
      "RandomForestClassifier(max_depth=370.0, max_features=None,                                                             \n",
      "                       min_samples_leaf=0.4424682414665816,\n",
      "                       min_samples_split=2.742531789619841, n_estimators=50)\n",
      "nan                                                                                                                    \n",
      "RandomForestClassifier(max_depth=110.0, max_features=None,                                                             \n",
      "                       min_samples_leaf=0.4398731469460255,\n",
      "                       min_samples_split=0.29281438587140085, n_estimators=750)\n",
      "0.6530987604958016                                                                                                     \n",
      "RandomForestClassifier(max_depth=810.0, min_samples_leaf=0.4293856355144383,                                           \n",
      "                       min_samples_split=2.6808598687602454, n_estimators=50)\n",
      "nan                                                                                                                    \n",
      "RandomForestClassifier(criterion='entropy', max_depth=190.0,                                                           \n",
      "                       min_samples_leaf=0.044536123082850376,\n",
      "                       min_samples_split=1.463815035308018, n_estimators=300)\n",
      "nan                                                                                                                    \n",
      "RandomForestClassifier(max_depth=680.0, max_features='log2',                                                           \n",
      "                       min_samples_leaf=0.1970547495683468,\n",
      "                       min_samples_split=0.5835373092307925, n_estimators=300)\n",
      "0.7247767559642809                                                                                                     \n",
      "RandomForestClassifier(max_depth=690.0, max_features=None,                                                             \n",
      "                       min_samples_leaf=0.4527941686251027,\n",
      "                       min_samples_split=1.4070437348257983, n_estimators=10)\n",
      "nan                                                                                                                    \n",
      "RandomForestClassifier(criterion='entropy', max_depth=500.0, max_features=None,                                        \n",
      "                       min_samples_leaf=0.3989048511211422,\n",
      "                       min_samples_split=0.09136397133232599, n_estimators=50)\n",
      "0.6530987604958016                                                                                                     \n",
      "RandomForestClassifier(max_depth=780.0, max_features='sqrt',                                                           \n",
      "                       min_samples_leaf=0.35353662284226195,\n",
      "                       min_samples_split=2.6783847373114913, n_estimators=1000)\n",
      "nan                                                                                                                    \n",
      "RandomForestClassifier(max_depth=100.0, min_samples_leaf=0.44843849084143705,                                          \n",
      "                       min_samples_split=2.858424872011817, n_estimators=300)\n",
      "nan                                                                                                                    \n",
      "RandomForestClassifier(max_depth=200.0, max_features='log2',                                                           \n",
      "                       min_samples_leaf=0.06005514978083931,\n",
      "                       min_samples_split=1.7393580771610506, n_estimators=10)\n",
      "nan                                                                                                                    \n",
      "RandomForestClassifier(max_depth=130.0, max_features='sqrt',                                                           \n",
      "                       min_samples_leaf=0.1159438654733847,\n",
      "                       min_samples_split=2.346193231425972, n_estimators=1000)\n",
      "nan                                                                                                                    \n",
      "RandomForestClassifier(max_depth=1140.0, min_samples_leaf=0.2810681226120998,                                          \n",
      "                       min_samples_split=2.9918236655888997, n_estimators=300)\n",
      "nan                                                                                                                    \n",
      "RandomForestClassifier(max_depth=1170.0, max_features='log2',                                                          \n",
      "                       min_samples_leaf=0.05624025265688104,\n",
      "                       min_samples_split=2.659949540802318, n_estimators=750)\n",
      "nan                                                                                                                    \n"
     ]
    },
    {
     "name": "stdout",
     "output_type": "stream",
     "text": [
      "RandomForestClassifier(criterion='entropy', max_depth=160.0, max_features=None,                                        \n",
      "                       min_samples_leaf=0.1037390928800766,\n",
      "                       min_samples_split=2.871275524543732, n_estimators=300)\n",
      "nan                                                                                                                    \n",
      "RandomForestClassifier(max_depth=790.0, max_features=None,                                                             \n",
      "                       min_samples_leaf=0.0663029226681654,\n",
      "                       min_samples_split=1.1679554732968194, n_estimators=750)\n",
      "nan                                                                                                                    \n",
      "RandomForestClassifier(criterion='entropy', max_depth=110.0,                                                           \n",
      "                       min_samples_leaf=0.38605734962751387,\n",
      "                       min_samples_split=0.9596930818233393, n_estimators=750)\n",
      "0.6530987604958016                                                                                                     \n",
      "RandomForestClassifier(max_depth=990.0, min_samples_leaf=0.004809407968171864,                                         \n",
      "                       min_samples_split=1.6900856761397665, n_estimators=50)\n",
      "nan                                                                                                                    \n",
      "RandomForestClassifier(max_depth=10.0, min_samples_leaf=0.4519150449157095,                                            \n",
      "                       min_samples_split=1.487300180173388, n_estimators=300)\n",
      "nan                                                                                                                    \n",
      "RandomForestClassifier(criterion='entropy', max_depth=120.0,                                                           \n",
      "                       min_samples_leaf=0.09946772292854938,\n",
      "                       min_samples_split=0.40927710990099564, n_estimators=750)\n",
      "0.7182726909236306                                                                                                     \n",
      "RandomForestClassifier(max_depth=610.0, max_features='log2',                                                           \n",
      "                       min_samples_leaf=0.33398303098030746,\n",
      "                       min_samples_split=1.070058511266111, n_estimators=50)\n",
      "nan                                                                                                                    \n",
      "RandomForestClassifier(criterion='entropy', max_depth=1190.0,                                                          \n",
      "                       min_samples_leaf=0.24264484580416634,\n",
      "                       min_samples_split=1.325031130324951, n_estimators=750)\n",
      "nan                                                                                                                    \n",
      "RandomForestClassifier(max_depth=520.0, max_features='sqrt',                                                           \n",
      "                       min_samples_leaf=0.08498844485818197,\n",
      "                       min_samples_split=1.007297298965846, n_estimators=50)\n",
      "nan                                                                                                                    \n",
      "RandomForestClassifier(max_depth=370.0, max_features='sqrt',                                                           \n",
      "                       min_samples_leaf=0.023833208975945208,\n",
      "                       min_samples_split=0.6511943732680835, n_estimators=750)\n",
      "0.6530987604958016                                                                                                     \n",
      "RandomForestClassifier(max_depth=760.0, max_features='sqrt',                                                           \n",
      "                       min_samples_leaf=0.28063803187782865,\n",
      "                       min_samples_split=2.509166854219949, n_estimators=300)\n",
      "nan                                                                                                                    \n",
      "RandomForestClassifier(max_depth=20.0, max_features='sqrt',                                                            \n",
      "                       min_samples_leaf=0.2716308532114143,\n",
      "                       min_samples_split=2.206444932670845, n_estimators=300)\n",
      "nan                                                                                                                    \n",
      "RandomForestClassifier(max_depth=750.0, max_features='sqrt',                                                           \n",
      "                       min_samples_leaf=0.27428211280824305,\n",
      "                       min_samples_split=1.9923093174368685, n_estimators=300)\n",
      "nan                                                                                                                    \n",
      "RandomForestClassifier(max_depth=750.0, max_features='sqrt',                                                           \n",
      "                       min_samples_leaf=0.2832077595061516,\n",
      "                       min_samples_split=2.2936546157017683, n_estimators=300)\n",
      "nan                                                                                                                    \n",
      "RandomForestClassifier(max_depth=750.0, max_features='sqrt',                                                           \n",
      "                       min_samples_leaf=0.277749057256698,\n",
      "                       min_samples_split=2.2878181365228016, n_estimators=300)\n",
      "nan                                                                                                                    \n",
      "RandomForestClassifier(max_depth=760.0, max_features='sqrt',                                                           \n",
      "                       min_samples_leaf=0.27594936362060607,\n",
      "                       min_samples_split=2.3786493592995783, n_estimators=300)\n",
      "nan                                                                                                                    \n",
      "RandomForestClassifier(max_depth=770.0, max_features='sqrt',                                                           \n",
      "                       min_samples_leaf=0.27644812345543557,\n",
      "                       min_samples_split=2.249421526586637, n_estimators=300)\n",
      "nan                                                                                                                    \n",
      "RandomForestClassifier(max_depth=740.0, max_features='sqrt',                                                           \n",
      "                       min_samples_leaf=0.29044516236893025,\n",
      "                       min_samples_split=2.392027624783713, n_estimators=300)\n",
      "nan                                                                                                                    \n",
      "RandomForestClassifier(max_depth=770.0, max_features='sqrt',                                                           \n",
      "                       min_samples_leaf=0.25394221710937553,\n",
      "                       min_samples_split=2.3005663079491536, n_estimators=300)\n",
      "nan                                                                                                                    \n",
      "RandomForestClassifier(max_depth=750.0, max_features='sqrt',                                                           \n",
      "                       min_samples_leaf=0.2764446951985735,\n",
      "                       min_samples_split=2.2831101958543076, n_estimators=300)\n",
      "nan                                                                                                                    \n",
      "RandomForestClassifier(max_depth=770.0, max_features='sqrt',                                                           \n",
      "                       min_samples_leaf=0.2640392753665161,\n",
      "                       min_samples_split=2.4108947384572588, n_estimators=300)\n",
      "nan                                                                                                                    \n",
      "RandomForestClassifier(max_depth=780.0, max_features='sqrt',                                                           \n",
      "                       min_samples_leaf=0.27469443476446553,\n",
      "                       min_samples_split=2.237636477415122, n_estimators=300)\n"
     ]
    },
    {
     "name": "stdout",
     "output_type": "stream",
     "text": [
      "nan                                                                                                                    \n",
      "RandomForestClassifier(max_depth=770.0, max_features='sqrt',                                                           \n",
      "                       min_samples_leaf=0.27983661777574487,\n",
      "                       min_samples_split=2.5728064356837446, n_estimators=300)\n",
      "nan                                                                                                                    \n",
      "RandomForestClassifier(max_depth=760.0, max_features='sqrt',                                                           \n",
      "                       min_samples_leaf=0.2618970418781573,\n",
      "                       min_samples_split=2.267164162465822, n_estimators=300)\n",
      "nan                                                                                                                    \n",
      "RandomForestClassifier(max_depth=770.0, max_features='sqrt',                                                           \n",
      "                       min_samples_leaf=0.2772247786668546,\n",
      "                       min_samples_split=2.4267564036326235, n_estimators=300)\n",
      "nan                                                                                                                    \n",
      "RandomForestClassifier(max_depth=760.0, max_features='sqrt',                                                           \n",
      "                       min_samples_leaf=0.27755957669814235,\n",
      "                       min_samples_split=2.611013723978574, n_estimators=300)\n",
      "nan                                                                                                                    \n",
      "RandomForestClassifier(max_depth=10.0, max_features='sqrt',                                                            \n",
      "                       min_samples_leaf=0.26454446380037,\n",
      "                       min_samples_split=2.631546768798211, n_estimators=300)\n",
      "nan                                                                                                                    \n",
      "RandomForestClassifier(max_depth=760.0, max_features='sqrt',                                                           \n",
      "                       min_samples_leaf=0.2753972016706984,\n",
      "                       min_samples_split=2.360536131608158, n_estimators=300)\n",
      "nan                                                                                                                    \n",
      "RandomForestClassifier(max_depth=750.0, max_features='sqrt',                                                           \n",
      "                       min_samples_leaf=0.27605082533728137,\n",
      "                       min_samples_split=2.2032906306245876, n_estimators=300)\n",
      "nan                                                                                                                    \n",
      "RandomForestClassifier(max_depth=750.0, max_features='sqrt',                                                           \n",
      "                       min_samples_leaf=0.265778833659561,\n",
      "                       min_samples_split=2.153292305477732, n_estimators=300)\n",
      "nan                                                                                                                    \n",
      "RandomForestClassifier(max_depth=20.0, max_features='sqrt',                                                            \n",
      "                       min_samples_leaf=0.29902792736156797,\n",
      "                       min_samples_split=1.9356788387405266, n_estimators=300)\n",
      "nan                                                                                                                    \n",
      "RandomForestClassifier(max_depth=760.0, max_features='sqrt',                                                           \n",
      "                       min_samples_leaf=0.2766643860850594,\n",
      "                       min_samples_split=2.216731184931777, n_estimators=300)\n",
      "nan                                                                                                                    \n",
      "RandomForestClassifier(max_depth=750.0, max_features='sqrt',                                                           \n",
      "                       min_samples_leaf=0.2761831084494152,\n",
      "                       min_samples_split=2.4188244713038287, n_estimators=300)\n",
      "nan                                                                                                                    \n",
      "RandomForestClassifier(max_depth=780.0, max_features='sqrt',                                                           \n",
      "                       min_samples_leaf=0.29187110948752915,\n",
      "                       min_samples_split=2.4426369665328407, n_estimators=300)\n",
      "nan                                                                                                                    \n",
      "RandomForestClassifier(max_depth=750.0, max_features='sqrt',                                                           \n",
      "                       min_samples_leaf=0.2651663457321104,\n",
      "                       min_samples_split=2.304845290926071, n_estimators=300)\n",
      "nan                                                                                                                    \n",
      "RandomForestClassifier(max_depth=20.0, max_features='sqrt',                                                            \n",
      "                       min_samples_leaf=0.26808618786412564,\n",
      "                       min_samples_split=2.1975927573382235, n_estimators=300)\n",
      "nan                                                                                                                    \n",
      "RandomForestClassifier(max_depth=470.0, max_features='sqrt',                                                           \n",
      "                       min_samples_leaf=0.26904985365161627,\n",
      "                       min_samples_split=2.0252006773501305, n_estimators=300)\n",
      "nan                                                                                                                    \n",
      "100%|███████████████████████████████████████████████| 80/80 [02:38<00:00,  1.98s/trial, best loss: -0.7247767559642809]\n"
     ]
    },
    {
     "data": {
      "text/plain": [
       "{'criterion': 1,\n",
       " 'max_depth': 680.0,\n",
       " 'max_features': 2,\n",
       " 'min_samples_leaf': 0.1970547495683468,\n",
       " 'min_samples_split': 0.5835373092307925,\n",
       " 'n_estimators': 2}"
      ]
     },
     "execution_count": 90,
     "metadata": {},
     "output_type": "execute_result"
    }
   ],
   "source": [
    "from sklearn.model_selection import cross_val_score\n",
    "trial=Trials()\n",
    "best= fmin(fn=objective,\n",
    "         space=space,\n",
    "         algo=tpe.suggest,\n",
    "         max_evals=80,\n",
    "         trials=trial)\n",
    "best"
   ]
  },
  {
   "cell_type": "code",
   "execution_count": 91,
   "id": "f7386727",
   "metadata": {},
   "outputs": [],
   "source": [
    "crit={0:'entropy',1:'gini'}\n",
    "features={ 0:'auto',1:'sqrt',2:'log2',3:None}\n",
    "estimators={0:10,1:50,2:300,3:750,4:1000}\n"
   ]
  },
  {
   "cell_type": "code",
   "execution_count": 92,
   "id": "64a3aac6",
   "metadata": {},
   "outputs": [
    {
     "data": {
      "text/plain": [
       "300"
      ]
     },
     "execution_count": 92,
     "metadata": {},
     "output_type": "execute_result"
    }
   ],
   "source": [
    "estimators[best['n_estimators']]"
   ]
  },
  {
   "cell_type": "code",
   "execution_count": 93,
   "id": "a9d83e96",
   "metadata": {},
   "outputs": [],
   "source": [
    "model4=RandomForestClassifier(criterion=crit[best['criterion']],max_depth=best['max_depth'],max_features=features[best['max_features']],min_samples_leaf=best['min_samples_leaf'],min_samples_split=best['min_samples_split'],n_estimators=estimators[best['n_estimators']])"
   ]
  },
  {
   "cell_type": "code",
   "execution_count": 94,
   "id": "bf7afdc4",
   "metadata": {},
   "outputs": [
    {
     "data": {
      "text/plain": [
       "RandomForestClassifier(max_depth=680.0, max_features='log2',\n",
       "                       min_samples_leaf=0.1970547495683468,\n",
       "                       min_samples_split=0.5835373092307925, n_estimators=300)"
      ]
     },
     "execution_count": 94,
     "metadata": {},
     "output_type": "execute_result"
    }
   ],
   "source": [
    "model4.fit(X_train,y_train)"
   ]
  },
  {
   "cell_type": "code",
   "execution_count": 95,
   "id": "486efe48",
   "metadata": {},
   "outputs": [
    {
     "name": "stdout",
     "output_type": "stream",
     "text": [
      "[[94 43]\n",
      " [ 5 12]]\n",
      "0.6883116883116883\n"
     ]
    }
   ],
   "source": [
    "predic_forest=model4.predict(X_test)\n",
    "print(confusion_matrix(predic_forest,y_test))\n",
    "print(accuracy_score(predic_forest,y_test))"
   ]
  },
  {
   "cell_type": "markdown",
   "id": "ad6d31f4",
   "metadata": {},
   "source": [
    "## Genetic ALgotiyhm"
   ]
  },
  {
   "cell_type": "code",
   "execution_count": 124,
   "id": "b9323131",
   "metadata": {},
   "outputs": [],
   "source": [
    "import numpy as np\n",
    "#from sklearn.ensemble import RandomForestClassifier"
   ]
  },
  {
   "cell_type": "code",
   "execution_count": 125,
   "id": "1aaa51a1",
   "metadata": {},
   "outputs": [],
   "source": [
    "# number of trees in random forest\n",
    "n_estimators=[int(x) for x in np.linspace(start=100,stop=2000,num=10)]\n",
    "#number of features to consider at every split\n",
    "max_features=[\"auto\", \"sqrt\", \"log2\"]\n",
    "##max number of level in tree\n",
    "max_depth=[int(x) for x in np.linspace(10,1000,10)]\n",
    "##minimum number of sample to split a node\n",
    "min_samples_split=[1,2,3,4,5,7,9]\n",
    "#minimum number of samples to split a each leaf node\n",
    "min_samples_leaf=[1,2,4,6,8]\n",
    "#create random grid\n",
    "param={\n",
    "    \"n_estimators\":n_estimators,\n",
    "    \"max_features\":max_features,\n",
    "    \"max_depth\":max_depth,\n",
    "    \"min_samples_split\":min_samples_split,\n",
    "    \"min_samples_leaf\":min_samples_leaf,\n",
    "    'criterion':['gini', \"entropy\"]\n",
    "    \n",
    "}"
   ]
  },
  {
   "cell_type": "code",
   "execution_count": 141,
   "id": "6d544b30",
   "metadata": {},
   "outputs": [],
   "source": [
    "from tpot import TPOTClassifier"
   ]
  },
  {
   "cell_type": "code",
   "execution_count": 155,
   "id": "daae33ed",
   "metadata": {},
   "outputs": [],
   "source": [
    "k=sklearn.ensemble.RandomForestClassifier(n)"
   ]
  },
  {
   "cell_type": "code",
   "execution_count": 158,
   "id": "139e47bb",
   "metadata": {},
   "outputs": [],
   "source": [
    "TPOT_classifier=TPOTClassifier(generations=5,population_size=23,offspring_size=12,\n",
    "                               config_dict={'sklearn.ensemble.RandomForestClassifier':params},\n",
    "                               early_stop=12,verbosity=2,cv=4,scoring='accuracy')\n"
   ]
  },
  {
   "cell_type": "code",
   "execution_count": 159,
   "id": "a9117a0c",
   "metadata": {},
   "outputs": [
    {
     "ename": "AssertionError",
     "evalue": "Terminals are required to have a unique name. Consider using the argument 'name' to rename your second RandomForestClassifier__n_estimators=511 terminal.",
     "output_type": "error",
     "traceback": [
      "\u001b[1;31m---------------------------------------------------------------------------\u001b[0m",
      "\u001b[1;31mAssertionError\u001b[0m                            Traceback (most recent call last)",
      "\u001b[1;32m<ipython-input-159-f55730d774ac>\u001b[0m in \u001b[0;36m<module>\u001b[1;34m\u001b[0m\n\u001b[1;32m----> 1\u001b[1;33m \u001b[0mTPOT_classifier\u001b[0m\u001b[1;33m.\u001b[0m\u001b[0mfit\u001b[0m\u001b[1;33m(\u001b[0m\u001b[0mX_train\u001b[0m\u001b[1;33m,\u001b[0m\u001b[0my_train\u001b[0m\u001b[1;33m)\u001b[0m\u001b[1;33m\u001b[0m\u001b[1;33m\u001b[0m\u001b[0m\n\u001b[0m",
      "\u001b[1;32m~\\anaconda3\\lib\\site-packages\\tpot\\base.py\u001b[0m in \u001b[0;36mfit\u001b[1;34m(self, features, target, sample_weight, groups)\u001b[0m\n\u001b[0;32m    723\u001b[0m \u001b[1;33m\u001b[0m\u001b[0m\n\u001b[0;32m    724\u001b[0m         \"\"\"\n\u001b[1;32m--> 725\u001b[1;33m         \u001b[0mself\u001b[0m\u001b[1;33m.\u001b[0m\u001b[0m_fit_init\u001b[0m\u001b[1;33m(\u001b[0m\u001b[1;33m)\u001b[0m\u001b[1;33m\u001b[0m\u001b[1;33m\u001b[0m\u001b[0m\n\u001b[0m\u001b[0;32m    726\u001b[0m         \u001b[0mfeatures\u001b[0m\u001b[1;33m,\u001b[0m \u001b[0mtarget\u001b[0m \u001b[1;33m=\u001b[0m \u001b[0mself\u001b[0m\u001b[1;33m.\u001b[0m\u001b[0m_check_dataset\u001b[0m\u001b[1;33m(\u001b[0m\u001b[0mfeatures\u001b[0m\u001b[1;33m,\u001b[0m \u001b[0mtarget\u001b[0m\u001b[1;33m,\u001b[0m \u001b[0msample_weight\u001b[0m\u001b[1;33m)\u001b[0m\u001b[1;33m\u001b[0m\u001b[1;33m\u001b[0m\u001b[0m\n\u001b[0;32m    727\u001b[0m \u001b[1;33m\u001b[0m\u001b[0m\n",
      "\u001b[1;32m~\\anaconda3\\lib\\site-packages\\tpot\\base.py\u001b[0m in \u001b[0;36m_fit_init\u001b[1;34m(self)\u001b[0m\n\u001b[0;32m    616\u001b[0m                 \u001b[1;34m\"copy\"\u001b[0m\u001b[1;33m:\u001b[0m \u001b[0mcopy\u001b[0m\u001b[1;33m,\u001b[0m\u001b[1;33m\u001b[0m\u001b[1;33m\u001b[0m\u001b[0m\n\u001b[0;32m    617\u001b[0m             }\n\u001b[1;32m--> 618\u001b[1;33m             \u001b[0mself\u001b[0m\u001b[1;33m.\u001b[0m\u001b[0m_setup_pset\u001b[0m\u001b[1;33m(\u001b[0m\u001b[1;33m)\u001b[0m\u001b[1;33m\u001b[0m\u001b[1;33m\u001b[0m\u001b[0m\n\u001b[0m\u001b[0;32m    619\u001b[0m             \u001b[0mself\u001b[0m\u001b[1;33m.\u001b[0m\u001b[0m_setup_toolbox\u001b[0m\u001b[1;33m(\u001b[0m\u001b[1;33m)\u001b[0m\u001b[1;33m\u001b[0m\u001b[1;33m\u001b[0m\u001b[0m\n\u001b[0;32m    620\u001b[0m             \u001b[1;31m# Dictionary of individuals that have already been evaluated in previous\u001b[0m\u001b[1;33m\u001b[0m\u001b[1;33m\u001b[0m\u001b[1;33m\u001b[0m\u001b[0m\n",
      "\u001b[1;32m~\\anaconda3\\lib\\site-packages\\tpot\\base.py\u001b[0m in \u001b[0;36m_setup_pset\u001b[1;34m(self)\u001b[0m\n\u001b[0;32m    435\u001b[0m         \u001b[0mself\u001b[0m\u001b[1;33m.\u001b[0m\u001b[0m_pset\u001b[0m \u001b[1;33m=\u001b[0m \u001b[0mgp\u001b[0m\u001b[1;33m.\u001b[0m\u001b[0mPrimitiveSetTyped\u001b[0m\u001b[1;33m(\u001b[0m\u001b[1;34m\"MAIN\"\u001b[0m\u001b[1;33m,\u001b[0m \u001b[1;33m[\u001b[0m\u001b[0mnp\u001b[0m\u001b[1;33m.\u001b[0m\u001b[0mndarray\u001b[0m\u001b[1;33m]\u001b[0m\u001b[1;33m,\u001b[0m \u001b[0mOutput_Array\u001b[0m\u001b[1;33m)\u001b[0m\u001b[1;33m\u001b[0m\u001b[1;33m\u001b[0m\u001b[0m\n\u001b[0;32m    436\u001b[0m         \u001b[0mself\u001b[0m\u001b[1;33m.\u001b[0m\u001b[0m_pset\u001b[0m\u001b[1;33m.\u001b[0m\u001b[0mrenameArguments\u001b[0m\u001b[1;33m(\u001b[0m\u001b[0mARG0\u001b[0m\u001b[1;33m=\u001b[0m\u001b[1;34m\"input_matrix\"\u001b[0m\u001b[1;33m)\u001b[0m\u001b[1;33m\u001b[0m\u001b[1;33m\u001b[0m\u001b[0m\n\u001b[1;32m--> 437\u001b[1;33m         \u001b[0mself\u001b[0m\u001b[1;33m.\u001b[0m\u001b[0m_add_operators\u001b[0m\u001b[1;33m(\u001b[0m\u001b[1;33m)\u001b[0m\u001b[1;33m\u001b[0m\u001b[1;33m\u001b[0m\u001b[0m\n\u001b[0m\u001b[0;32m    438\u001b[0m \u001b[1;33m\u001b[0m\u001b[0m\n\u001b[0;32m    439\u001b[0m         \u001b[1;32mif\u001b[0m \u001b[0mself\u001b[0m\u001b[1;33m.\u001b[0m\u001b[0mverbosity\u001b[0m \u001b[1;33m>\u001b[0m \u001b[1;36m2\u001b[0m\u001b[1;33m:\u001b[0m\u001b[1;33m\u001b[0m\u001b[1;33m\u001b[0m\u001b[0m\n",
      "\u001b[1;32m~\\anaconda3\\lib\\site-packages\\tpot\\base.py\u001b[0m in \u001b[0;36m_add_operators\u001b[1;34m(self)\u001b[0m\n\u001b[0;32m    459\u001b[0m                 \u001b[0mtree_p_types\u001b[0m \u001b[1;33m=\u001b[0m \u001b[1;33m(\u001b[0m\u001b[1;33m[\u001b[0m\u001b[0mstep_in_type\u001b[0m\u001b[1;33m]\u001b[0m \u001b[1;33m+\u001b[0m \u001b[0marg_types\u001b[0m\u001b[1;33m,\u001b[0m \u001b[0mstep_in_type\u001b[0m\u001b[1;33m)\u001b[0m\u001b[1;33m\u001b[0m\u001b[1;33m\u001b[0m\u001b[0m\n\u001b[0;32m    460\u001b[0m                 \u001b[0mself\u001b[0m\u001b[1;33m.\u001b[0m\u001b[0m_pset\u001b[0m\u001b[1;33m.\u001b[0m\u001b[0maddPrimitive\u001b[0m\u001b[1;33m(\u001b[0m\u001b[0moperator\u001b[0m\u001b[1;33m,\u001b[0m \u001b[1;33m*\u001b[0m\u001b[0mtree_p_types\u001b[0m\u001b[1;33m)\u001b[0m\u001b[1;33m\u001b[0m\u001b[1;33m\u001b[0m\u001b[0m\n\u001b[1;32m--> 461\u001b[1;33m                 \u001b[0mself\u001b[0m\u001b[1;33m.\u001b[0m\u001b[0m_import_hash_and_add_terminals\u001b[0m\u001b[1;33m(\u001b[0m\u001b[0moperator\u001b[0m\u001b[1;33m,\u001b[0m \u001b[0marg_types\u001b[0m\u001b[1;33m)\u001b[0m\u001b[1;33m\u001b[0m\u001b[1;33m\u001b[0m\u001b[0m\n\u001b[0m\u001b[0;32m    462\u001b[0m             self._pset.addPrimitive(\n\u001b[0;32m    463\u001b[0m                 \u001b[0mCombineDFs\u001b[0m\u001b[1;33m(\u001b[0m\u001b[1;33m)\u001b[0m\u001b[1;33m,\u001b[0m \u001b[1;33m[\u001b[0m\u001b[0mstep_in_type\u001b[0m\u001b[1;33m,\u001b[0m \u001b[0mstep_in_type\u001b[0m\u001b[1;33m]\u001b[0m\u001b[1;33m,\u001b[0m \u001b[0mstep_in_type\u001b[0m\u001b[1;33m\u001b[0m\u001b[1;33m\u001b[0m\u001b[0m\n",
      "\u001b[1;32m~\\anaconda3\\lib\\site-packages\\tpot\\base.py\u001b[0m in \u001b[0;36m_import_hash_and_add_terminals\u001b[1;34m(self, operator, arg_types)\u001b[0m\n\u001b[0;32m    511\u001b[0m         \u001b[1;32mif\u001b[0m \u001b[1;32mnot\u001b[0m \u001b[0mself\u001b[0m\u001b[1;33m.\u001b[0m\u001b[0mop_list\u001b[0m\u001b[1;33m.\u001b[0m\u001b[0mcount\u001b[0m\u001b[1;33m(\u001b[0m\u001b[0moperator\u001b[0m\u001b[1;33m.\u001b[0m\u001b[0m__name__\u001b[0m\u001b[1;33m)\u001b[0m\u001b[1;33m:\u001b[0m\u001b[1;33m\u001b[0m\u001b[1;33m\u001b[0m\u001b[0m\n\u001b[0;32m    512\u001b[0m             \u001b[0mself\u001b[0m\u001b[1;33m.\u001b[0m\u001b[0m_import_hash\u001b[0m\u001b[1;33m(\u001b[0m\u001b[0moperator\u001b[0m\u001b[1;33m)\u001b[0m\u001b[1;33m\u001b[0m\u001b[1;33m\u001b[0m\u001b[0m\n\u001b[1;32m--> 513\u001b[1;33m             \u001b[0mself\u001b[0m\u001b[1;33m.\u001b[0m\u001b[0m_add_terminals\u001b[0m\u001b[1;33m(\u001b[0m\u001b[0marg_types\u001b[0m\u001b[1;33m)\u001b[0m\u001b[1;33m\u001b[0m\u001b[1;33m\u001b[0m\u001b[0m\n\u001b[0m\u001b[0;32m    514\u001b[0m             \u001b[0mself\u001b[0m\u001b[1;33m.\u001b[0m\u001b[0mop_list\u001b[0m\u001b[1;33m.\u001b[0m\u001b[0mappend\u001b[0m\u001b[1;33m(\u001b[0m\u001b[0moperator\u001b[0m\u001b[1;33m.\u001b[0m\u001b[0m__name__\u001b[0m\u001b[1;33m)\u001b[0m\u001b[1;33m\u001b[0m\u001b[1;33m\u001b[0m\u001b[0m\n\u001b[0;32m    515\u001b[0m \u001b[1;33m\u001b[0m\u001b[0m\n",
      "\u001b[1;32m~\\anaconda3\\lib\\site-packages\\tpot\\base.py\u001b[0m in \u001b[0;36m_add_terminals\u001b[1;34m(self, arg_types)\u001b[0m\n\u001b[0;32m    534\u001b[0m             \u001b[1;32mfor\u001b[0m \u001b[0mval\u001b[0m \u001b[1;32min\u001b[0m \u001b[0mtype_values\u001b[0m\u001b[1;33m:\u001b[0m\u001b[1;33m\u001b[0m\u001b[1;33m\u001b[0m\u001b[0m\n\u001b[0;32m    535\u001b[0m                 \u001b[0mterminal_name\u001b[0m \u001b[1;33m=\u001b[0m \u001b[0m_type\u001b[0m\u001b[1;33m.\u001b[0m\u001b[0m__name__\u001b[0m \u001b[1;33m+\u001b[0m \u001b[1;34m\"=\"\u001b[0m \u001b[1;33m+\u001b[0m \u001b[0mstr\u001b[0m\u001b[1;33m(\u001b[0m\u001b[0mval\u001b[0m\u001b[1;33m)\u001b[0m\u001b[1;33m\u001b[0m\u001b[1;33m\u001b[0m\u001b[0m\n\u001b[1;32m--> 536\u001b[1;33m                 \u001b[0mself\u001b[0m\u001b[1;33m.\u001b[0m\u001b[0m_pset\u001b[0m\u001b[1;33m.\u001b[0m\u001b[0maddTerminal\u001b[0m\u001b[1;33m(\u001b[0m\u001b[0mval\u001b[0m\u001b[1;33m,\u001b[0m \u001b[0m_type\u001b[0m\u001b[1;33m,\u001b[0m \u001b[0mname\u001b[0m\u001b[1;33m=\u001b[0m\u001b[0mterminal_name\u001b[0m\u001b[1;33m)\u001b[0m\u001b[1;33m\u001b[0m\u001b[1;33m\u001b[0m\u001b[0m\n\u001b[0m\u001b[0;32m    537\u001b[0m \u001b[1;33m\u001b[0m\u001b[0m\n\u001b[0;32m    538\u001b[0m     \u001b[1;32mdef\u001b[0m \u001b[0m_setup_toolbox\u001b[0m\u001b[1;33m(\u001b[0m\u001b[0mself\u001b[0m\u001b[1;33m)\u001b[0m\u001b[1;33m:\u001b[0m\u001b[1;33m\u001b[0m\u001b[1;33m\u001b[0m\u001b[0m\n",
      "\u001b[1;32m~\\anaconda3\\lib\\site-packages\\deap\\gp.py\u001b[0m in \u001b[0;36maddTerminal\u001b[1;34m(self, terminal, ret_type, name)\u001b[0m\n\u001b[0;32m    362\u001b[0m             \u001b[0mname\u001b[0m \u001b[1;33m=\u001b[0m \u001b[0mterminal\u001b[0m\u001b[1;33m.\u001b[0m\u001b[0m__name__\u001b[0m\u001b[1;33m\u001b[0m\u001b[1;33m\u001b[0m\u001b[0m\n\u001b[0;32m    363\u001b[0m \u001b[1;33m\u001b[0m\u001b[0m\n\u001b[1;32m--> 364\u001b[1;33m         \u001b[1;32massert\u001b[0m \u001b[0mname\u001b[0m \u001b[1;32mnot\u001b[0m \u001b[1;32min\u001b[0m \u001b[0mself\u001b[0m\u001b[1;33m.\u001b[0m\u001b[0mcontext\u001b[0m\u001b[1;33m,\u001b[0m\u001b[0;31m \u001b[0m\u001b[0;31m\\\u001b[0m\u001b[1;33m\u001b[0m\u001b[1;33m\u001b[0m\u001b[0m\n\u001b[0m\u001b[0;32m    365\u001b[0m             \u001b[1;34m\"Terminals are required to have a unique name. \"\u001b[0m\u001b[0;31m \u001b[0m\u001b[0;31m\\\u001b[0m\u001b[1;33m\u001b[0m\u001b[1;33m\u001b[0m\u001b[0m\n\u001b[0;32m    366\u001b[0m             \u001b[1;34m\"Consider using the argument 'name' to rename your \"\u001b[0m\u001b[0;31m \u001b[0m\u001b[0;31m\\\u001b[0m\u001b[1;33m\u001b[0m\u001b[1;33m\u001b[0m\u001b[0m\n",
      "\u001b[1;31mAssertionError\u001b[0m: Terminals are required to have a unique name. Consider using the argument 'name' to rename your second RandomForestClassifier__n_estimators=511 terminal."
     ]
    }
   ],
   "source": [
    "TPOT_classifier.fit(X_train,y_train)"
   ]
  },
  {
   "cell_type": "code",
   "execution_count": null,
   "id": "5800e03c",
   "metadata": {},
   "outputs": [],
   "source": []
  },
  {
   "cell_type": "code",
   "execution_count": null,
   "id": "bbaac0c1",
   "metadata": {},
   "outputs": [],
   "source": []
  }
 ],
 "metadata": {
  "kernelspec": {
   "display_name": "Python 3",
   "language": "python",
   "name": "python3"
  },
  "language_info": {
   "codemirror_mode": {
    "name": "ipython",
    "version": 3
   },
   "file_extension": ".py",
   "mimetype": "text/x-python",
   "name": "python",
   "nbconvert_exporter": "python",
   "pygments_lexer": "ipython3",
   "version": "3.8.8"
  }
 },
 "nbformat": 4,
 "nbformat_minor": 5
}
